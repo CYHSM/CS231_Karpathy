{
 "cells": [
  {
   "cell_type": "markdown",
   "metadata": {},
   "source": [
    "# Softmax exercise\n",
    "\n",
    "*Complete and hand in this completed worksheet (including its outputs and any supporting code outside of the worksheet) with your assignment submission. For more details see the [assignments page](http://vision.stanford.edu/teaching/cs231n/assignments.html) on the course website.*\n",
    "\n",
    "This exercise is analogous to the SVM exercise. You will:\n",
    "\n",
    "- implement a fully-vectorized **loss function** for the Softmax classifier\n",
    "- implement the fully-vectorized expression for its **analytic gradient**\n",
    "- **check your implementation** with numerical gradient\n",
    "- use a validation set to **tune the learning rate and regularization** strength\n",
    "- **optimize** the loss function with **SGD**\n",
    "- **visualize** the final learned weights\n"
   ]
  },
  {
   "cell_type": "code",
   "execution_count": 1,
   "metadata": {
    "collapsed": false
   },
   "outputs": [],
   "source": [
    "import random\n",
    "import numpy as np\n",
    "from cs231n.data_utils import load_CIFAR10\n",
    "import matplotlib.pyplot as plt\n",
    "%matplotlib inline\n",
    "plt.rcParams['figure.figsize'] = (10.0, 8.0) # set default size of plots\n",
    "plt.rcParams['image.interpolation'] = 'nearest'\n",
    "plt.rcParams['image.cmap'] = 'gray'\n",
    "\n",
    "# for auto-reloading extenrnal modules\n",
    "# see http://stackoverflow.com/questions/1907993/autoreload-of-modules-in-ipython\n",
    "%load_ext autoreload\n",
    "%autoreload 2"
   ]
  },
  {
   "cell_type": "code",
   "execution_count": 2,
   "metadata": {
    "collapsed": false
   },
   "outputs": [
    {
     "name": "stdout",
     "output_type": "stream",
     "text": [
      "Train data shape:  (49000, 3073)\n",
      "Train labels shape:  (49000,)\n",
      "Validation data shape:  (1000, 3073)\n",
      "Validation labels shape:  (1000,)\n",
      "Test data shape:  (1000, 3073)\n",
      "Test labels shape:  (1000,)\n",
      "dev data shape:  (500, 3073)\n",
      "dev labels shape:  (500,)\n"
     ]
    }
   ],
   "source": [
    "def get_CIFAR10_data(num_training=49000, num_validation=1000, num_test=1000, num_dev=500):\n",
    "  \"\"\"\n",
    "  Load the CIFAR-10 dataset from disk and perform preprocessing to prepare\n",
    "  it for the linear classifier. These are the same steps as we used for the\n",
    "  SVM, but condensed to a single function.  \n",
    "  \"\"\"\n",
    "  # Load the raw CIFAR-10 data\n",
    "  cifar10_dir = 'cs231n/datasets/cifar-10-batches-py'\n",
    "  X_train, y_train, X_test, y_test = load_CIFAR10(cifar10_dir)\n",
    "  \n",
    "  # subsample the data\n",
    "  mask = range(num_training, num_training + num_validation)\n",
    "  X_val = X_train[mask]\n",
    "  y_val = y_train[mask]\n",
    "  mask = range(num_training)\n",
    "  X_train = X_train[mask]\n",
    "  y_train = y_train[mask]\n",
    "  mask = range(num_test)\n",
    "  X_test = X_test[mask]\n",
    "  y_test = y_test[mask]\n",
    "  mask = np.random.choice(num_training, num_dev, replace=False)\n",
    "  X_dev = X_train[mask]\n",
    "  y_dev = y_train[mask]\n",
    "  \n",
    "  # Preprocessing: reshape the image data into rows\n",
    "  X_train = np.reshape(X_train, (X_train.shape[0], -1))\n",
    "  X_val = np.reshape(X_val, (X_val.shape[0], -1))\n",
    "  X_test = np.reshape(X_test, (X_test.shape[0], -1))\n",
    "  X_dev = np.reshape(X_dev, (X_dev.shape[0], -1))\n",
    "  \n",
    "  # Normalize the data: subtract the mean image\n",
    "  mean_image = np.mean(X_train, axis = 0)\n",
    "  X_train -= mean_image\n",
    "  X_val -= mean_image\n",
    "  X_test -= mean_image\n",
    "  X_dev -= mean_image\n",
    "  \n",
    "  # add bias dimension and transform into columns\n",
    "  X_train = np.hstack([X_train, np.ones((X_train.shape[0], 1))])\n",
    "  X_val = np.hstack([X_val, np.ones((X_val.shape[0], 1))])\n",
    "  X_test = np.hstack([X_test, np.ones((X_test.shape[0], 1))])\n",
    "  X_dev = np.hstack([X_dev, np.ones((X_dev.shape[0], 1))])\n",
    "  \n",
    "  return X_train, y_train, X_val, y_val, X_test, y_test, X_dev, y_dev\n",
    "\n",
    "\n",
    "# Invoke the above function to get our data.\n",
    "X_train, y_train, X_val, y_val, X_test, y_test, X_dev, y_dev = get_CIFAR10_data()\n",
    "print 'Train data shape: ', X_train.shape\n",
    "print 'Train labels shape: ', y_train.shape\n",
    "print 'Validation data shape: ', X_val.shape\n",
    "print 'Validation labels shape: ', y_val.shape\n",
    "print 'Test data shape: ', X_test.shape\n",
    "print 'Test labels shape: ', y_test.shape\n",
    "print 'dev data shape: ', X_dev.shape\n",
    "print 'dev labels shape: ', y_dev.shape"
   ]
  },
  {
   "cell_type": "markdown",
   "metadata": {},
   "source": [
    "## Softmax Classifier\n",
    "\n",
    "Your code for this section will all be written inside **cs231n/classifiers/softmax.py**. \n"
   ]
  },
  {
   "cell_type": "code",
   "execution_count": 3,
   "metadata": {
    "collapsed": false
   },
   "outputs": [
    {
     "name": "stdout",
     "output_type": "stream",
     "text": [
      "loss: 2.375290\n",
      "sanity check: 2.302585\n"
     ]
    }
   ],
   "source": [
    "# First implement the naive softmax loss function with nested loops.\n",
    "# Open the file cs231n/classifiers/softmax.py and implement the\n",
    "# softmax_loss_naive function.\n",
    "\n",
    "from cs231n.classifiers.softmax import softmax_loss_naive\n",
    "import time\n",
    "\n",
    "# Generate a random softmax weight matrix and use it to compute the loss.\n",
    "W = np.random.randn(3073, 10) * 0.0001\n",
    "loss, grad = softmax_loss_naive(W, X_dev, y_dev, 0.0)\n",
    "\n",
    "# As a rough sanity check, our loss should be something close to -log(0.1).\n",
    "print 'loss: %f' % loss\n",
    "print 'sanity check: %f' % (-np.log(0.1))"
   ]
  },
  {
   "cell_type": "markdown",
   "metadata": {},
   "source": [
    "## Inline Question 1:\n",
    "Why do we expect our loss to be close to -log(0.1)? Explain briefly.**\n",
    "\n",
    "**Your answer:** *Fill this in*\n"
   ]
  },
  {
   "cell_type": "code",
   "execution_count": 4,
   "metadata": {
    "collapsed": false
   },
   "outputs": [
    {
     "name": "stdout",
     "output_type": "stream",
     "text": [
      "numerical: -2.151937 analytic: -2.151937, relative error: 2.251508e-08\n",
      "numerical: -1.130821 analytic: -1.130821, relative error: 9.672052e-09\n",
      "numerical: 0.559448 analytic: 0.559448, relative error: 7.982491e-09\n",
      "numerical: 0.460346 analytic: 0.460346, relative error: 7.291618e-08\n",
      "numerical: 0.846328 analytic: 0.846328, relative error: 1.554628e-07\n",
      "numerical: 0.281424 analytic: 0.281424, relative error: 1.755281e-07\n",
      "numerical: 3.295444 analytic: 3.295444, relative error: 4.132892e-09\n",
      "numerical: -0.949986 analytic: -0.949986, relative error: 3.828818e-08\n",
      "numerical: 2.356076 analytic: 2.356076, relative error: 1.474137e-08\n",
      "numerical: 0.692592 analytic: 0.692592, relative error: 2.774304e-08\n",
      "numerical: 0.472068 analytic: 0.472068, relative error: 9.425364e-11\n",
      "numerical: -0.081338 analytic: -0.081338, relative error: 1.417064e-07\n",
      "numerical: -1.315310 analytic: -1.315310, relative error: 7.764510e-09\n",
      "numerical: -0.691573 analytic: -0.691573, relative error: 2.114929e-08\n",
      "numerical: 0.352002 analytic: 0.352002, relative error: 2.004427e-08\n",
      "numerical: -6.780175 analytic: -6.780175, relative error: 9.526888e-10\n",
      "numerical: 1.527070 analytic: 1.527070, relative error: 8.501625e-09\n",
      "numerical: -0.571438 analytic: -0.571438, relative error: 4.074140e-08\n",
      "numerical: -6.913537 analytic: -6.913537, relative error: 4.557571e-09\n",
      "numerical: -0.596609 analytic: -0.596609, relative error: 1.170156e-07\n"
     ]
    }
   ],
   "source": [
    "# Complete the implementation of softmax_loss_naive and implement a (naive)\n",
    "# version of the gradient that uses nested loops.\n",
    "loss, grad = softmax_loss_naive(W, X_dev, y_dev, 0.0)\n",
    "\n",
    "# As we did for the SVM, use numeric gradient checking as a debugging tool.\n",
    "# The numertdW[:,j] += (sum_scores[j] - (y[i]==j)) * X[i]ic gradient should be close to the analytic gradient.\n",
    "from cs231n.gradient_check import grad_check_sparse\n",
    "f = lambda w: softmax_loss_naive(w, X_dev, y_dev, 0.0)[0]\n",
    "grad_numerical = grad_check_sparse(f, W, grad, 10)\n",
    "\n",
    "# similar to SVM case, do another gradient check with regularization\n",
    "loss, grad = softmax_loss_naive(W, X_dev, y_dev, 1e2)\n",
    "f = lambda w: softmax_loss_naive(w, X_dev, y_dev, 1e2)[0]\n",
    "grad_numerical = grad_check_sparse(f, W, grad, 10)"
   ]
  },
  {
   "cell_type": "code",
   "execution_count": 5,
   "metadata": {
    "collapsed": false
   },
   "outputs": [
    {
     "name": "stdout",
     "output_type": "stream",
     "text": [
      "naive loss: 2.375290e+00 computed in 0.120277s\n",
      "vectorized loss: 2.375290e+00 computed in 0.012106s\n",
      "Loss difference: 0.000000\n",
      "Gradient difference: 0.000000\n"
     ]
    }
   ],
   "source": [
    "# Now that we have a naive implementation of the softmax loss function and its gradient,\n",
    "# implement a vectorized version in softmax_loss_vectorized.\n",
    "# The two versions should compute the same results, but the vectorized version should be\n",
    "# much faster.\n",
    "tic = time.time()\n",
    "loss_naive, grad_naive = softmax_loss_naive(W, X_dev, y_dev, 0.00001)\n",
    "toc = time.time()\n",
    "print 'naive loss: %e computed in %fs' % (loss_naive, toc - tic)\n",
    "\n",
    "from cs231n.classifiers.softmax import softmax_loss_vectorized\n",
    "tic = time.time()\n",
    "loss_vectorized, grad_vectorized = softmax_loss_vectorized(W, X_dev, y_dev, 0.00001)\n",
    "toc = time.time()\n",
    "print 'vectorized loss: %e computed in %fs' % (loss_vectorized, toc - tic)\n",
    "\n",
    "# As we did for the SVM, we use the Frobenius norm to compare the two versions\n",
    "# of the gradient.\n",
    "grad_difference = np.linalg.norm(grad_naive - grad_vectorized, ord='fro')\n",
    "print 'Loss difference: %f' % np.abs(loss_naive - loss_vectorized)\n",
    "print 'Gradient difference: %f' % grad_difference"
   ]
  },
  {
   "cell_type": "code",
   "execution_count": 7,
   "metadata": {
    "collapsed": false
   },
   "outputs": [
    {
     "name": "stdout",
     "output_type": "stream",
     "text": [
      "lr 1.000000e-07 reg 5.000000e+04 train accuracy: 0.151204 val accuracy: 0.158000\n",
      "lr 1.000000e-07 reg 5.555556e+04 train accuracy: 0.203388 val accuracy: 0.224000\n",
      "lr 1.000000e-07 reg 6.111111e+04 train accuracy: 0.257245 val accuracy: 0.273000\n",
      "lr 1.000000e-07 reg 6.666667e+04 train accuracy: 0.295184 val accuracy: 0.301000\n",
      "lr 1.000000e-07 reg 7.222222e+04 train accuracy: 0.312224 val accuracy: 0.321000\n",
      "lr 1.000000e-07 reg 7.777778e+04 train accuracy: 0.312041 val accuracy: 0.325000\n",
      "lr 1.000000e-07 reg 8.333333e+04 train accuracy: 0.313000 val accuracy: 0.321000\n",
      "lr 1.000000e-07 reg 8.888889e+04 train accuracy: 0.316102 val accuracy: 0.334000\n",
      "lr 1.000000e-07 reg 9.444444e+04 train accuracy: 0.314714 val accuracy: 0.324000\n",
      "lr 1.000000e-07 reg 1.000000e+05 train accuracy: 0.304204 val accuracy: 0.316000\n",
      "lr 1.444444e-07 reg 5.000000e+04 train accuracy: 0.317265 val accuracy: 0.328000\n",
      "lr 1.444444e-07 reg 5.555556e+04 train accuracy: 0.328245 val accuracy: 0.340000\n",
      "lr 1.444444e-07 reg 6.111111e+04 train accuracy: 0.322265 val accuracy: 0.333000\n",
      "lr 1.444444e-07 reg 6.666667e+04 train accuracy: 0.322286 val accuracy: 0.344000\n",
      "lr 1.444444e-07 reg 7.222222e+04 train accuracy: 0.322449 val accuracy: 0.338000\n",
      "lr 1.444444e-07 reg 7.777778e+04 train accuracy: 0.311918 val accuracy: 0.321000\n",
      "lr 1.444444e-07 reg 8.333333e+04 train accuracy: 0.319122 val accuracy: 0.327000\n",
      "lr 1.444444e-07 reg 8.888889e+04 train accuracy: 0.308306 val accuracy: 0.321000\n",
      "lr 1.444444e-07 reg 9.444444e+04 train accuracy: 0.303755 val accuracy: 0.328000\n",
      "lr 1.444444e-07 reg 1.000000e+05 train accuracy: 0.304980 val accuracy: 0.321000\n",
      "lr 1.888889e-07 reg 5.000000e+04 train accuracy: 0.324673 val accuracy: 0.331000\n",
      "lr 1.888889e-07 reg 5.555556e+04 train accuracy: 0.324041 val accuracy: 0.336000\n",
      "lr 1.888889e-07 reg 6.111111e+04 train accuracy: 0.325286 val accuracy: 0.347000\n",
      "lr 1.888889e-07 reg 6.666667e+04 train accuracy: 0.317490 val accuracy: 0.340000\n",
      "lr 1.888889e-07 reg 7.222222e+04 train accuracy: 0.316571 val accuracy: 0.333000\n",
      "lr 1.888889e-07 reg 7.777778e+04 train accuracy: 0.317531 val accuracy: 0.335000\n",
      "lr 1.888889e-07 reg 8.333333e+04 train accuracy: 0.311980 val accuracy: 0.330000\n",
      "lr 1.888889e-07 reg 8.888889e+04 train accuracy: 0.311286 val accuracy: 0.314000\n",
      "lr 1.888889e-07 reg 9.444444e+04 train accuracy: 0.306776 val accuracy: 0.323000\n",
      "lr 1.888889e-07 reg 1.000000e+05 train accuracy: 0.303020 val accuracy: 0.316000\n",
      "lr 2.333333e-07 reg 5.000000e+04 train accuracy: 0.328490 val accuracy: 0.349000\n",
      "lr 2.333333e-07 reg 5.555556e+04 train accuracy: 0.320531 val accuracy: 0.335000\n",
      "lr 2.333333e-07 reg 6.111111e+04 train accuracy: 0.318245 val accuracy: 0.334000\n",
      "lr 2.333333e-07 reg 6.666667e+04 train accuracy: 0.323980 val accuracy: 0.338000\n",
      "lr 2.333333e-07 reg 7.222222e+04 train accuracy: 0.319918 val accuracy: 0.323000\n",
      "lr 2.333333e-07 reg 7.777778e+04 train accuracy: 0.319020 val accuracy: 0.339000\n",
      "lr 2.333333e-07 reg 8.333333e+04 train accuracy: 0.310449 val accuracy: 0.328000\n",
      "lr 2.333333e-07 reg 8.888889e+04 train accuracy: 0.319102 val accuracy: 0.340000\n",
      "lr 2.333333e-07 reg 9.444444e+04 train accuracy: 0.317755 val accuracy: 0.324000\n",
      "lr 2.333333e-07 reg 1.000000e+05 train accuracy: 0.305265 val accuracy: 0.319000\n",
      "lr 2.777778e-07 reg 5.000000e+04 train accuracy: 0.324980 val accuracy: 0.342000\n",
      "lr 2.777778e-07 reg 5.555556e+04 train accuracy: 0.315286 val accuracy: 0.331000\n",
      "lr 2.777778e-07 reg 6.111111e+04 train accuracy: 0.325490 val accuracy: 0.330000\n",
      "lr 2.777778e-07 reg 6.666667e+04 train accuracy: 0.327082 val accuracy: 0.348000\n",
      "lr 2.777778e-07 reg 7.222222e+04 train accuracy: 0.303755 val accuracy: 0.323000\n",
      "lr 2.777778e-07 reg 7.777778e+04 train accuracy: 0.313857 val accuracy: 0.329000\n",
      "lr 2.777778e-07 reg 8.333333e+04 train accuracy: 0.309388 val accuracy: 0.325000\n",
      "lr 2.777778e-07 reg 8.888889e+04 train accuracy: 0.317898 val accuracy: 0.329000\n",
      "lr 2.777778e-07 reg 9.444444e+04 train accuracy: 0.300041 val accuracy: 0.312000\n",
      "lr 2.777778e-07 reg 1.000000e+05 train accuracy: 0.295429 val accuracy: 0.312000\n",
      "lr 3.222222e-07 reg 5.000000e+04 train accuracy: 0.318449 val accuracy: 0.332000\n",
      "lr 3.222222e-07 reg 5.555556e+04 train accuracy: 0.321020 val accuracy: 0.336000\n",
      "lr 3.222222e-07 reg 6.111111e+04 train accuracy: 0.313102 val accuracy: 0.332000\n",
      "lr 3.222222e-07 reg 6.666667e+04 train accuracy: 0.314143 val accuracy: 0.327000\n",
      "lr 3.222222e-07 reg 7.222222e+04 train accuracy: 0.308592 val accuracy: 0.318000\n",
      "lr 3.222222e-07 reg 7.777778e+04 train accuracy: 0.311204 val accuracy: 0.332000\n",
      "lr 3.222222e-07 reg 8.333333e+04 train accuracy: 0.302653 val accuracy: 0.316000\n",
      "lr 3.222222e-07 reg 8.888889e+04 train accuracy: 0.312449 val accuracy: 0.325000\n",
      "lr 3.222222e-07 reg 9.444444e+04 train accuracy: 0.295714 val accuracy: 0.308000\n",
      "lr 3.222222e-07 reg 1.000000e+05 train accuracy: 0.304245 val accuracy: 0.325000\n",
      "lr 3.666667e-07 reg 5.000000e+04 train accuracy: 0.320327 val accuracy: 0.331000\n",
      "lr 3.666667e-07 reg 5.555556e+04 train accuracy: 0.327939 val accuracy: 0.334000\n",
      "lr 3.666667e-07 reg 6.111111e+04 train accuracy: 0.313939 val accuracy: 0.338000\n",
      "lr 3.666667e-07 reg 6.666667e+04 train accuracy: 0.308796 val accuracy: 0.328000\n",
      "lr 3.666667e-07 reg 7.222222e+04 train accuracy: 0.310531 val accuracy: 0.327000\n",
      "lr 3.666667e-07 reg 7.777778e+04 train accuracy: 0.310265 val accuracy: 0.325000\n",
      "lr 3.666667e-07 reg 8.333333e+04 train accuracy: 0.301490 val accuracy: 0.309000\n",
      "lr 3.666667e-07 reg 8.888889e+04 train accuracy: 0.303204 val accuracy: 0.317000\n",
      "lr 3.666667e-07 reg 9.444444e+04 train accuracy: 0.304857 val accuracy: 0.328000\n",
      "lr 3.666667e-07 reg 1.000000e+05 train accuracy: 0.318061 val accuracy: 0.333000\n",
      "lr 4.111111e-07 reg 5.000000e+04 train accuracy: 0.313796 val accuracy: 0.323000\n",
      "lr 4.111111e-07 reg 5.555556e+04 train accuracy: 0.330918 val accuracy: 0.349000\n",
      "lr 4.111111e-07 reg 6.111111e+04 train accuracy: 0.323122 val accuracy: 0.332000\n",
      "lr 4.111111e-07 reg 6.666667e+04 train accuracy: 0.317429 val accuracy: 0.332000\n",
      "lr 4.111111e-07 reg 7.222222e+04 train accuracy: 0.309694 val accuracy: 0.324000\n",
      "lr 4.111111e-07 reg 7.777778e+04 train accuracy: 0.307694 val accuracy: 0.325000\n",
      "lr 4.111111e-07 reg 8.333333e+04 train accuracy: 0.308102 val accuracy: 0.329000\n",
      "lr 4.111111e-07 reg 8.888889e+04 train accuracy: 0.313449 val accuracy: 0.323000\n",
      "lr 4.111111e-07 reg 9.444444e+04 train accuracy: 0.311429 val accuracy: 0.328000\n",
      "lr 4.111111e-07 reg 1.000000e+05 train accuracy: 0.314388 val accuracy: 0.331000\n",
      "lr 4.555556e-07 reg 5.000000e+04 train accuracy: 0.321429 val accuracy: 0.330000\n",
      "lr 4.555556e-07 reg 5.555556e+04 train accuracy: 0.318714 val accuracy: 0.324000\n",
      "lr 4.555556e-07 reg 6.111111e+04 train accuracy: 0.320163 val accuracy: 0.333000\n",
      "lr 4.555556e-07 reg 6.666667e+04 train accuracy: 0.323673 val accuracy: 0.336000\n",
      "lr 4.555556e-07 reg 7.222222e+04 train accuracy: 0.311898 val accuracy: 0.333000\n",
      "lr 4.555556e-07 reg 7.777778e+04 train accuracy: 0.310796 val accuracy: 0.334000\n",
      "lr 4.555556e-07 reg 8.333333e+04 train accuracy: 0.309102 val accuracy: 0.321000\n",
      "lr 4.555556e-07 reg 8.888889e+04 train accuracy: 0.302020 val accuracy: 0.316000\n",
      "lr 4.555556e-07 reg 9.444444e+04 train accuracy: 0.296755 val accuracy: 0.313000\n",
      "lr 4.555556e-07 reg 1.000000e+05 train accuracy: 0.298020 val accuracy: 0.300000\n",
      "lr 5.000000e-07 reg 5.000000e+04 train accuracy: 0.316857 val accuracy: 0.324000\n",
      "lr 5.000000e-07 reg 5.555556e+04 train accuracy: 0.324816 val accuracy: 0.350000\n",
      "lr 5.000000e-07 reg 6.111111e+04 train accuracy: 0.320041 val accuracy: 0.328000\n",
      "lr 5.000000e-07 reg 6.666667e+04 train accuracy: 0.321224 val accuracy: 0.342000\n",
      "lr 5.000000e-07 reg 7.222222e+04 train accuracy: 0.308735 val accuracy: 0.318000\n",
      "lr 5.000000e-07 reg 7.777778e+04 train accuracy: 0.320408 val accuracy: 0.328000\n",
      "lr 5.000000e-07 reg 8.333333e+04 train accuracy: 0.316469 val accuracy: 0.323000\n",
      "lr 5.000000e-07 reg 8.888889e+04 train accuracy: 0.313204 val accuracy: 0.332000\n",
      "lr 5.000000e-07 reg 9.444444e+04 train accuracy: 0.313265 val accuracy: 0.323000\n",
      "lr 5.000000e-07 reg 1.000000e+05 train accuracy: 0.305122 val accuracy: 0.325000\n",
      "best validation accuracy achieved during cross-validation: 0.350000\n"
     ]
    }
   ],
   "source": [
    "# Use the validation set to tune hyperparameters (regularization strength and\n",
    "# learning rate). You should experiment with different ranges for the learning\n",
    "# rates and regularization strengths; if you are careful you should be able to\n",
    "# get a classification accuracy of over 0.35 on the validation set.\n",
    "from cs231n.classifiers import Softmax\n",
    "results = {}\n",
    "best_val = -1\n",
    "best_softmax = None\n",
    "learning_rates = np.linspace(1e-7, 5e-7, 10)\n",
    "regularization_strengths = np.linspace(5e4, 1e5, 10)\n",
    "softmax = Softmax()\n",
    "\n",
    "################################################################################\n",
    "# TODO:                                                                        #\n",
    "# Use the validation set to set the learning rate and regularization strength. #\n",
    "# This should be identical to the validation that you did for the SVM; save    #\n",
    "# the best trained softmax classifer in best_softmax.                          #\n",
    "################################################################################\n",
    "for lr in learning_rates:\n",
    "    for reg in regularization_strengths:\n",
    "        loss_hist = softmax.train(X_train, y_train, learning_rate=lr, reg=reg,\n",
    "                      num_iters=100, verbose=False)\n",
    "        y_train_pred = softmax.predict(X_train)\n",
    "        acc_train_pred = np.mean(y_train == y_train_pred)\n",
    "        y_val_pred = softmax.predict(X_val)\n",
    "        acc_val_pred = np.mean(y_val == y_val_pred)\n",
    "        results[(lr,reg)] = (acc_train_pred,acc_val_pred)\n",
    "        \n",
    "        if acc_val_pred > best_val:\n",
    "            best_val = acc_val_pred\n",
    "            best_softmax = softmax\n",
    "\n",
    "################################################################################\n",
    "#                              END OF YOUR CODE                                #\n",
    "################################################################################\n",
    "    \n",
    "# Print out results.\n",
    "for lr, reg in sorted(results):\n",
    "    train_accuracy, val_accuracy = results[(lr, reg)]\n",
    "    print 'lr %e reg %e train accuracy: %f val accuracy: %f' % (\n",
    "                lr, reg, train_accuracy, val_accuracy)\n",
    "    \n",
    "print 'best validation accuracy achieved during cross-validation: %f' % best_val"
   ]
  },
  {
   "cell_type": "code",
   "execution_count": 8,
   "metadata": {
    "collapsed": false
   },
   "outputs": [
    {
     "name": "stdout",
     "output_type": "stream",
     "text": [
      "softmax on raw pixels final test set accuracy: 0.329000\n"
     ]
    }
   ],
   "source": [
    "# evaluate on test set\n",
    "# Evaluate the best softmax on test set\n",
    "y_test_pred = best_softmax.predict(X_test)\n",
    "test_accuracy = np.mean(y_test == y_test_pred)\n",
    "print 'softmax on raw pixels final test set accuracy: %f' % (test_accuracy, )"
   ]
  },
  {
   "cell_type": "code",
   "execution_count": 9,
   "metadata": {
    "collapsed": false
   },
   "outputs": [
    {
     "data": {
      "image/png": "[encoded data removed]",
      "text/plain": [
       "<matplotlib.figure.Figure at 0x7fd7d0231b10>"
      ]
     },
     "metadata": {},
     "output_type": "display_data"
    }
   ],
   "source": [
    "# Visualize the learned weights for each class\n",
    "w = best_softmax.W[:-1,:] # strip out the bias\n",
    "w = w.reshape(32, 32, 3, 10)\n",
    "\n",
    "w_min, w_max = np.min(w), np.max(w)\n",
    "\n",
    "classes = ['plane', 'car', 'bird', 'cat', 'deer', 'dog', 'frog', 'horse', 'ship', 'truck']\n",
    "for i in xrange(10):\n",
    "  plt.subplot(2, 5, i + 1)\n",
    "  \n",
    "  # Rescale the weights to be between 0 and 255\n",
    "  wimg = 255.0 * (w[:, :, :, i].squeeze() - w_min) / (w_max - w_min)\n",
    "  plt.imshow(wimg.astype('uint8'))\n",
    "  plt.axis('off')\n",
    "  plt.title(classes[i])"
   ]
  }
 ],
 "metadata": {
  "anaconda-cloud": {},
  "kernelspec": {
   "display_name": "Python [default]",
   "language": "python",
   "name": "python2"
  },
  "language_info": {
   "codemirror_mode": {
    "name": "ipython",
    "version": 2
   },
   "file_extension": ".py",
   "mimetype": "text/x-python",
   "name": "python",
   "nbconvert_exporter": "python",
   "pygments_lexer": "ipython2",
   "version": "2.7.12"
  }
 },
 "nbformat": 4,
 "nbformat_minor": 0
}
